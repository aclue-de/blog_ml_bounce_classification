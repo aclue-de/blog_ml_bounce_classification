{
 "cells": [
  {
   "cell_type": "code",
   "execution_count": 1,
   "metadata": {},
   "outputs": [],
   "source": [
    "%load_ext autoreload\n",
    "%autoreload 2\n",
    "\n",
    "from pathlib import Path\n",
    "from collections import Counter, OrderedDict\n",
    "\n",
    "import torch\n",
    "from torch.utils.data import DataLoader\n",
    "from torchtext.vocab import vocab\n",
    "import pandas as pd\n",
    "import numpy as np\n",
    "import matplotlib.pyplot as plt\n",
    "import sklearn\n",
    "from sklearn.model_selection import train_test_split\n",
    "\n",
    "from bounce_text_dataset import BounceTextDataset\n",
    "import encoding\n",
    "import models\n",
    "import evaluation\n",
    "from train import fit"
   ]
  },
  {
   "cell_type": "code",
   "execution_count": 2,
   "metadata": {},
   "outputs": [],
   "source": [
    "# fixed random seeds\n",
    "torch.manual_seed(42)\n",
    "np.random.seed(42)"
   ]
  },
  {
   "cell_type": "markdown",
   "metadata": {},
   "source": [
    "# Load Data"
   ]
  },
  {
   "cell_type": "code",
   "execution_count": 3,
   "metadata": {},
   "outputs": [
    {
     "name": "stdout",
     "output_type": "stream",
     "text": [
      "loaded 3482897 error texts in total\n",
      "loaded 1590 unique (fomatted) error texts\n"
     ]
    }
   ],
   "source": [
    "data_path = Path() / 'data' / 'labeled_data_25_3.pickle'\n",
    "df = pd.read_pickle(data_path)\n",
    "print(f'loaded {df.shape[0]} error texts in total')\n",
    "unique_df = df.drop_duplicates('errorTextFormatted')\n",
    "print(f'loaded {unique_df.shape[0]} unique (fomatted) error texts')"
   ]
  },
  {
   "cell_type": "code",
   "execution_count": 20,
   "metadata": {},
   "outputs": [
    {
     "data": {
      "text/html": [
       "<div>\n",
       "<style scoped>\n",
       "    .dataframe tbody tr th:only-of-type {\n",
       "        vertical-align: middle;\n",
       "    }\n",
       "\n",
       "    .dataframe tbody tr th {\n",
       "        vertical-align: top;\n",
       "    }\n",
       "\n",
       "    .dataframe thead th {\n",
       "        text-align: right;\n",
       "    }\n",
       "</style>\n",
       "<table border=\"1\" class=\"dataframe\">\n",
       "  <thead>\n",
       "    <tr style=\"text-align: right;\">\n",
       "      <th></th>\n",
       "      <th>Email</th>\n",
       "      <th>errorTextFull</th>\n",
       "      <th>errorTextFormatted</th>\n",
       "      <th>label</th>\n",
       "    </tr>\n",
       "  </thead>\n",
       "  <tbody>\n",
       "    <tr>\n",
       "      <th>0</th>\n",
       "      <td>b9000cd871972b45bcfaffca7339420ecc0b9e728c3253...</td>\n",
       "      <td>Message queued (session with SMTP Server: #HOS...</td>\n",
       "      <td>message queued session with smtp server #hostn...</td>\n",
       "      <td>NoTransport</td>\n",
       "    </tr>\n",
       "    <tr>\n",
       "      <th>5</th>\n",
       "      <td>bc38b6679d445db7317a0049cd232b9899b6e89e4ba67a...</td>\n",
       "      <td>452 4.2.2 https://support.google.com/mail/?p=O...</td>\n",
       "      <td>452 4.2.2 https://support.google.com/mail/?p=o...</td>\n",
       "      <td>Mailbox full</td>\n",
       "    </tr>\n",
       "    <tr>\n",
       "      <th>16</th>\n",
       "      <td>c11a14931eb54d4f7c789026e774ee5f61a5cb48170492...</td>\n",
       "      <td>End body tag detection recovery, opening track...</td>\n",
       "      <td>end body tag detection recovery opening tracki...</td>\n",
       "      <td>NoTransport</td>\n",
       "    </tr>\n",
       "    <tr>\n",
       "      <th>31</th>\n",
       "      <td>d4a214d875729f5ec0fc9f196e86218144ffd4f502a8a7...</td>\n",
       "      <td>Messages queued (connection quotas met).</td>\n",
       "      <td>messages queued connection quotas met</td>\n",
       "      <td>NoTransport</td>\n",
       "    </tr>\n",
       "    <tr>\n",
       "      <th>42</th>\n",
       "      <td>6279a031901d9b512ac6e8b5f338ed40a22c1f1b8d0239...</td>\n",
       "      <td>491 Proxy connection to MX #IP# failed</td>\n",
       "      <td>491 proxy connection to mx #ip# failed</td>\n",
       "      <td>NoTransport</td>\n",
       "    </tr>\n",
       "    <tr>\n",
       "      <th>...</th>\n",
       "      <td>...</td>\n",
       "      <td>...</td>\n",
       "      <td>...</td>\n",
       "      <td>...</td>\n",
       "    </tr>\n",
       "    <tr>\n",
       "      <th>3310501</th>\n",
       "      <td>34479b410946f40624e09761c1b81f982e5795244ee917...</td>\n",
       "      <td>530 Must issue a STARTTLS command first.</td>\n",
       "      <td>530 must issue a starttls command first</td>\n",
       "      <td>NoTransport</td>\n",
       "    </tr>\n",
       "    <tr>\n",
       "      <th>3310840</th>\n",
       "      <td>c9eff36e40c18dac473180f11d785e3a2ba88447a68e80...</td>\n",
       "      <td>530 Must send STARTTLS before DATA</td>\n",
       "      <td>530 must send starttls before data</td>\n",
       "      <td>NoTransport</td>\n",
       "    </tr>\n",
       "    <tr>\n",
       "      <th>3356451</th>\n",
       "      <td>2a781496d816c4c1c8a65aced5f8eceb41b58a26e6c8cd...</td>\n",
       "      <td>421 Unexpected failure, please try later</td>\n",
       "      <td>421 unexpected failure please try later</td>\n",
       "      <td>ServerTempError</td>\n",
       "    </tr>\n",
       "    <tr>\n",
       "      <th>3370579</th>\n",
       "      <td>6911c04fe9bd1b75f2fe06e13d06536efcace7b39d2f7b...</td>\n",
       "      <td>451 4.1.1 PK6glfq04eypnPK6glGR2O &lt;*&gt; Mailbox b...</td>\n",
       "      <td>451 4.1.1 pk6glfq04eypnpk6glgr2o #id# mailbox ...</td>\n",
       "      <td>ServerTempError</td>\n",
       "    </tr>\n",
       "    <tr>\n",
       "      <th>3428331</th>\n",
       "      <td>121e5ff6dc3839cdb663a19af5558b57ee074c0fc66e42...</td>\n",
       "      <td>550 5.7.0 DT:SPM .For more information, please...</td>\n",
       "      <td>550 5.7.0 dt:spm .for more information please ...</td>\n",
       "      <td>OtherPermanentError</td>\n",
       "    </tr>\n",
       "  </tbody>\n",
       "</table>\n",
       "<p>1590 rows × 4 columns</p>\n",
       "</div>"
      ],
      "text/plain": [
       "                                                     Email  \\\n",
       "0        b9000cd871972b45bcfaffca7339420ecc0b9e728c3253...   \n",
       "5        bc38b6679d445db7317a0049cd232b9899b6e89e4ba67a...   \n",
       "16       c11a14931eb54d4f7c789026e774ee5f61a5cb48170492...   \n",
       "31       d4a214d875729f5ec0fc9f196e86218144ffd4f502a8a7...   \n",
       "42       6279a031901d9b512ac6e8b5f338ed40a22c1f1b8d0239...   \n",
       "...                                                    ...   \n",
       "3310501  34479b410946f40624e09761c1b81f982e5795244ee917...   \n",
       "3310840  c9eff36e40c18dac473180f11d785e3a2ba88447a68e80...   \n",
       "3356451  2a781496d816c4c1c8a65aced5f8eceb41b58a26e6c8cd...   \n",
       "3370579  6911c04fe9bd1b75f2fe06e13d06536efcace7b39d2f7b...   \n",
       "3428331  121e5ff6dc3839cdb663a19af5558b57ee074c0fc66e42...   \n",
       "\n",
       "                                             errorTextFull  \\\n",
       "0        Message queued (session with SMTP Server: #HOS...   \n",
       "5        452 4.2.2 https://support.google.com/mail/?p=O...   \n",
       "16       End body tag detection recovery, opening track...   \n",
       "31                Messages queued (connection quotas met).   \n",
       "42                  491 Proxy connection to MX #IP# failed   \n",
       "...                                                    ...   \n",
       "3310501           530 Must issue a STARTTLS command first.   \n",
       "3310840                 530 Must send STARTTLS before DATA   \n",
       "3356451           421 Unexpected failure, please try later   \n",
       "3370579  451 4.1.1 PK6glfq04eypnPK6glGR2O <*> Mailbox b...   \n",
       "3428331  550 5.7.0 DT:SPM .For more information, please...   \n",
       "\n",
       "                                        errorTextFormatted  \\\n",
       "0        message queued session with smtp server #hostn...   \n",
       "5        452 4.2.2 https://support.google.com/mail/?p=o...   \n",
       "16       end body tag detection recovery opening tracki...   \n",
       "31                   messages queued connection quotas met   \n",
       "42                  491 proxy connection to mx #ip# failed   \n",
       "...                                                    ...   \n",
       "3310501            530 must issue a starttls command first   \n",
       "3310840                 530 must send starttls before data   \n",
       "3356451            421 unexpected failure please try later   \n",
       "3370579  451 4.1.1 pk6glfq04eypnpk6glgr2o #id# mailbox ...   \n",
       "3428331  550 5.7.0 dt:spm .for more information please ...   \n",
       "\n",
       "                       label  \n",
       "0                NoTransport  \n",
       "5               Mailbox full  \n",
       "16               NoTransport  \n",
       "31               NoTransport  \n",
       "42               NoTransport  \n",
       "...                      ...  \n",
       "3310501          NoTransport  \n",
       "3310840          NoTransport  \n",
       "3356451      ServerTempError  \n",
       "3370579      ServerTempError  \n",
       "3428331  OtherPermanentError  \n",
       "\n",
       "[1590 rows x 4 columns]"
      ]
     },
     "execution_count": 20,
     "metadata": {},
     "output_type": "execute_result"
    }
   ],
   "source": [
    "unique_df[[\"Email\", \"errorTextFull\", \"errorTextFormatted\", \"label\"]]"
   ]
  },
  {
   "cell_type": "markdown",
   "metadata": {},
   "source": [
    "# Split data (only train, test)"
   ]
  },
  {
   "cell_type": "code",
   "execution_count": 4,
   "metadata": {},
   "outputs": [],
   "source": [
    "X = np.array(unique_df['errorTextFormatted'].values)\n",
    "Y = unique_df['label'].values\n",
    "Y = np.array(list(map(encoding.encode_combined_label, Y)))"
   ]
  },
  {
   "cell_type": "code",
   "execution_count": 5,
   "metadata": {},
   "outputs": [
    {
     "name": "stdout",
     "output_type": "stream",
     "text": [
      "train    items: 1192\n",
      "val/test items: 398\n"
     ]
    }
   ],
   "source": [
    "x_val = np.array([])\n",
    "y_val = np.array([])\n",
    "x_train, x_test, y_train, y_test = train_test_split(X, Y, random_state=30, stratify=Y, test_size=0.25)\n",
    "x_val = x_test.copy()\n",
    "y_val = y_test.copy()\n",
    "\n",
    "print(f'train    items: {x_train.shape[0]}')\n",
    "print(f'val/test items: {x_val.shape[0]}')"
   ]
  },
  {
   "cell_type": "code",
   "execution_count": 6,
   "metadata": {},
   "outputs": [
    {
     "name": "stdout",
     "output_type": "stream",
     "text": [
      " loaded #1879 unique tokens\n"
     ]
    }
   ],
   "source": [
    "counter = Counter()\n",
    "#v = list(x_train) + list(x_val) + list(x_test)\n",
    "error_texts = list(x_train)\n",
    "for err in error_texts:\n",
    "    counter.update(err.split(' '))\n",
    "    \n",
    "sorted_by_freq_tuples = sorted(counter.items(), key=lambda x: x[1], reverse=True)\n",
    "ordered_dict = OrderedDict(sorted_by_freq_tuples)\n",
    "\n",
    "bounce_vocab = vocab(ordered_dict, specials=['<unk>', '<emp>'])\n",
    "bounce_vocab.set_default_index(0)\n",
    "print(f' loaded #{len(bounce_vocab)} unique tokens')"
   ]
  },
  {
   "cell_type": "code",
   "execution_count": 7,
   "metadata": {},
   "outputs": [
    {
     "data": {
      "text/plain": [
       "(0, '<unk>', '<emp>', '550')"
      ]
     },
     "execution_count": 7,
     "metadata": {},
     "output_type": "execute_result"
    }
   ],
   "source": [
    "itos_map = bounce_vocab.get_itos()\n",
    "bounce_vocab['dlkngklngfkn'], itos_map[0], itos_map[1], itos_map[2]"
   ]
  },
  {
   "cell_type": "code",
   "execution_count": 8,
   "metadata": {},
   "outputs": [],
   "source": [
    "#for token in v1.get_stoi():\n",
    "#    print(token)"
   ]
  },
  {
   "cell_type": "markdown",
   "metadata": {},
   "source": [
    "# Train"
   ]
  },
  {
   "cell_type": "code",
   "execution_count": 9,
   "metadata": {},
   "outputs": [
    {
     "name": "stdout",
     "output_type": "stream",
     "text": [
      "EmbeddingModel(\n",
      "  (embedding): Embedding(1879, 16)\n",
      "  (fc): Linear(in_features=640, out_features=128, bias=True)\n",
      "  (relu1): ReLU()\n",
      "  (dropout): Dropout(p=0.3, inplace=False)\n",
      "  (fc2): Linear(in_features=128, out_features=8, bias=True)\n",
      ")\n",
      "train Epoch 1 loss: 3.386544 time: 0.391579ms                    pre: 0.17 rec: 0.17 f1: 0.17 acc: 0.24 items: 1192\n",
      "val   Epoch 1 loss: 1.996802 time: 0.827716ms                    pre: 0.28 rec: 0.28 f1: 0.28 acc: 0.41 items: 398\n",
      "train Epoch 2 loss: 1.818796 time: 0.181366ms                    pre: 0.34 rec: 0.33 f1: 0.33 acc: 0.45 items: 1192\n",
      "val   Epoch 2 loss: 1.016108 time: 0.520382ms                    pre: 0.59 rec: 0.55 f1: 0.56 acc: 0.67 items: 398\n",
      "train Epoch 3 loss: 1.556477 time: 0.198436ms                    pre: 0.42 rec: 0.40 f1: 0.41 acc: 0.52 items: 1192\n",
      "val   Epoch 3 loss: 0.677084 time: 0.522126ms                    pre: 0.76 rec: 0.70 f1: 0.71 acc: 0.79 items: 398\n",
      "train Epoch 4 loss: 1.442157 time: 0.170531ms                    pre: 0.48 rec: 0.46 f1: 0.47 acc: 0.57 items: 1192\n",
      "val   Epoch 4 loss: 0.503910 time: 0.448374ms                    pre: 0.86 rec: 0.80 f1: 0.82 acc: 0.86 items: 398\n",
      "train Epoch 5 loss: 1.358120 time: 0.165472ms                    pre: 0.48 rec: 0.48 f1: 0.48 acc: 0.58 items: 1192\n",
      "val   Epoch 5 loss: 0.386516 time: 0.460468ms                    pre: 0.90 rec: 0.86 f1: 0.88 acc: 0.90 items: 398\n",
      "train Epoch 6 loss: 1.284935 time: 0.162510ms                    pre: 0.53 rec: 0.52 f1: 0.52 acc: 0.62 items: 1192\n",
      "val   Epoch 6 loss: 0.299650 time: 0.425932ms                    pre: 0.94 rec: 0.93 f1: 0.93 acc: 0.94 items: 398\n",
      "train Epoch 7 loss: 1.265390 time: 0.154968ms                    pre: 0.53 rec: 0.51 f1: 0.52 acc: 0.62 items: 1192\n",
      "val   Epoch 7 loss: 0.245838 time: 0.447928ms                    pre: 0.97 rec: 0.95 f1: 0.96 acc: 0.97 items: 398\n",
      "train Epoch 8 loss: 1.160193 time: 0.188608ms                    pre: 0.56 rec: 0.55 f1: 0.55 acc: 0.65 items: 1192\n",
      "val   Epoch 8 loss: 0.202136 time: 0.542257ms                    pre: 0.97 rec: 0.96 f1: 0.96 acc: 0.97 items: 398\n",
      "train Epoch 9 loss: 1.134753 time: 0.228535ms                    pre: 0.58 rec: 0.57 f1: 0.57 acc: 0.66 items: 1192\n",
      "val   Epoch 9 loss: 0.176167 time: 0.562622ms                    pre: 0.97 rec: 0.98 f1: 0.97 acc: 0.97 items: 398\n",
      "train Epoch 10 loss: 1.065653 time: 0.158409ms                    pre: 0.62 rec: 0.60 f1: 0.61 acc: 0.69 items: 1192\n",
      "val   Epoch 10 loss: 0.151222 time: 0.502557ms                    pre: 0.99 rec: 0.98 f1: 0.99 acc: 0.98 items: 398\n",
      "train Epoch 11 loss: 0.977327 time: 0.201121ms                    pre: 0.62 rec: 0.60 f1: 0.60 acc: 0.69 items: 1192\n",
      "val   Epoch 11 loss: 0.133856 time: 0.547503ms                    pre: 0.99 rec: 0.99 f1: 0.99 acc: 0.98 items: 398\n",
      "train Epoch 12 loss: 0.937429 time: 0.140970ms                    pre: 0.64 rec: 0.62 f1: 0.63 acc: 0.70 items: 1192\n",
      "val   Epoch 12 loss: 0.117639 time: 0.397554ms                    pre: 0.99 rec: 0.99 f1: 0.99 acc: 0.98 items: 398\n",
      "train Epoch 13 loss: 0.875856 time: 0.140460ms                    pre: 0.65 rec: 0.62 f1: 0.63 acc: 0.72 items: 1192\n",
      "val   Epoch 13 loss: 0.105632 time: 0.478494ms                    pre: 0.99 rec: 0.99 f1: 0.99 acc: 0.99 items: 398\n",
      "train Epoch 14 loss: 0.898070 time: 0.156283ms                    pre: 0.63 rec: 0.62 f1: 0.62 acc: 0.71 items: 1192\n",
      "val   Epoch 14 loss: 0.098230 time: 0.446111ms                    pre: 0.99 rec: 0.99 f1: 0.99 acc: 0.99 items: 398\n",
      "train Epoch 15 loss: 0.833126 time: 0.188032ms                    pre: 0.70 rec: 0.66 f1: 0.68 acc: 0.74 items: 1192\n",
      "val   Epoch 15 loss: 0.090233 time: 0.496362ms                    pre: 0.99 rec: 0.99 f1: 0.99 acc: 0.99 items: 398\n",
      "train Epoch 16 loss: 0.809577 time: 0.178973ms                    pre: 0.67 rec: 0.65 f1: 0.66 acc: 0.73 items: 1192\n",
      "val   Epoch 16 loss: 0.083689 time: 0.496586ms                    pre: 0.99 rec: 0.99 f1: 0.99 acc: 0.99 items: 398\n",
      "train Epoch 17 loss: 0.796462 time: 0.178655ms                    pre: 0.64 rec: 0.63 f1: 0.63 acc: 0.73 items: 1192\n",
      "val   Epoch 17 loss: 0.078003 time: 0.500968ms                    pre: 0.99 rec: 0.99 f1: 0.99 acc: 0.99 items: 398\n",
      "train Epoch 18 loss: 0.761141 time: 0.142168ms                    pre: 0.70 rec: 0.67 f1: 0.68 acc: 0.75 items: 1192\n",
      "val   Epoch 18 loss: 0.074314 time: 0.425471ms                    pre: 0.99 rec: 0.99 f1: 0.99 acc: 0.99 items: 398\n",
      "train Epoch 19 loss: 0.662668 time: 0.163792ms                    pre: 0.74 rec: 0.71 f1: 0.72 acc: 0.78 items: 1192\n",
      "val   Epoch 19 loss: 0.067526 time: 0.420417ms                    pre: 0.99 rec: 0.99 f1: 0.99 acc: 0.99 items: 398\n",
      "train Epoch 20 loss: 0.678990 time: 0.164048ms                    pre: 0.73 rec: 0.71 f1: 0.72 acc: 0.78 items: 1192\n",
      "val   Epoch 20 loss: 0.063513 time: 0.459553ms                    pre: 0.99 rec: 0.99 f1: 0.99 acc: 0.99 items: 398\n",
      "train Epoch 21 loss: 0.688726 time: 0.162474ms                    pre: 0.70 rec: 0.67 f1: 0.68 acc: 0.77 items: 1192\n",
      "val   Epoch 21 loss: 0.061154 time: 0.434452ms                    pre: 1.00 rec: 1.00 f1: 1.00 acc: 0.99 items: 398\n",
      "train Epoch 22 loss: 0.665620 time: 0.165955ms                    pre: 0.72 rec: 0.71 f1: 0.71 acc: 0.77 items: 1192\n",
      "val   Epoch 22 loss: 0.057036 time: 0.486218ms                    pre: 0.99 rec: 0.99 f1: 0.99 acc: 0.99 items: 398\n",
      "train Epoch 23 loss: 0.581829 time: 0.139312ms                    pre: 0.76 rec: 0.74 f1: 0.75 acc: 0.81 items: 1192\n",
      "val   Epoch 23 loss: 0.053915 time: 0.454428ms                    pre: 1.00 rec: 1.00 f1: 1.00 acc: 0.99 items: 398\n",
      "train Epoch 24 loss: 0.612777 time: 0.171988ms                    pre: 0.75 rec: 0.72 f1: 0.73 acc: 0.80 items: 1192\n",
      "val   Epoch 24 loss: 0.052140 time: 0.481949ms                    pre: 1.00 rec: 1.00 f1: 1.00 acc: 0.99 items: 398\n",
      "train Epoch 25 loss: 0.564688 time: 0.186458ms                    pre: 0.75 rec: 0.74 f1: 0.74 acc: 0.81 items: 1192\n",
      "val   Epoch 25 loss: 0.048831 time: 0.502391ms                    pre: 1.00 rec: 1.00 f1: 1.00 acc: 0.99 items: 398\n",
      "train Epoch 26 loss: 0.541061 time: 0.168192ms                    pre: 0.78 rec: 0.77 f1: 0.77 acc: 0.82 items: 1192\n",
      "val   Epoch 26 loss: 0.047241 time: 0.474280ms                    pre: 1.00 rec: 1.00 f1: 1.00 acc: 0.99 items: 398\n",
      "train Epoch 27 loss: 0.521205 time: 0.145369ms                    pre: 0.76 rec: 0.75 f1: 0.76 acc: 0.81 items: 1192\n",
      "val   Epoch 27 loss: 0.043345 time: 0.434405ms                    pre: 1.00 rec: 1.00 f1: 1.00 acc: 0.99 items: 398\n",
      "train Epoch 28 loss: 0.493047 time: 0.141077ms                    pre: 0.78 rec: 0.75 f1: 0.76 acc: 0.82 items: 1192\n",
      "val   Epoch 28 loss: 0.042795 time: 0.490546ms                    pre: 1.00 rec: 1.00 f1: 1.00 acc: 0.99 items: 398\n",
      "train Epoch 29 loss: 0.488764 time: 0.211856ms                    pre: 0.78 rec: 0.77 f1: 0.77 acc: 0.83 items: 1192\n",
      "val   Epoch 29 loss: 0.041405 time: 0.583650ms                    pre: 1.00 rec: 1.00 f1: 1.00 acc: 0.99 items: 398\n",
      "train Epoch 30 loss: 0.488651 time: 0.219262ms                    pre: 0.77 rec: 0.75 f1: 0.76 acc: 0.83 items: 1192\n",
      "val   Epoch 30 loss: 0.039409 time: 0.570608ms                    pre: 1.00 rec: 1.00 f1: 1.00 acc: 0.99 items: 398\n",
      "train Epoch 31 loss: 0.477445 time: 0.258895ms                    pre: 0.79 rec: 0.75 f1: 0.76 acc: 0.83 items: 1192\n",
      "val   Epoch 31 loss: 0.038958 time: 0.632168ms                    pre: 1.00 rec: 1.00 f1: 1.00 acc: 0.99 items: 398\n",
      "train Epoch 32 loss: 0.431751 time: 0.179044ms                    pre: 0.82 rec: 0.80 f1: 0.81 acc: 0.86 items: 1192\n",
      "val   Epoch 32 loss: 0.037625 time: 0.457928ms                    pre: 1.00 rec: 1.00 f1: 1.00 acc: 0.99 items: 398\n",
      "train Epoch 33 loss: 0.464090 time: 0.183808ms                    pre: 0.79 rec: 0.77 f1: 0.78 acc: 0.84 items: 1192\n",
      "val   Epoch 33 loss: 0.036725 time: 0.589663ms                    pre: 1.00 rec: 1.00 f1: 1.00 acc: 0.99 items: 398\n",
      "train Epoch 34 loss: 0.462244 time: 0.261603ms                    pre: 0.80 rec: 0.79 f1: 0.80 acc: 0.84 items: 1192\n",
      "val   Epoch 34 loss: 0.035419 time: 0.632127ms                    pre: 1.00 rec: 1.00 f1: 1.00 acc: 0.99 items: 398\n",
      "train Epoch 35 loss: 0.440294 time: 0.196473ms                    pre: 0.83 rec: 0.81 f1: 0.82 acc: 0.85 items: 1192\n"
     ]
    },
    {
     "name": "stdout",
     "output_type": "stream",
     "text": [
      "val   Epoch 35 loss: 0.034341 time: 0.529382ms                    pre: 1.00 rec: 1.00 f1: 1.00 acc: 0.99 items: 398\n",
      "train Epoch 36 loss: 0.393433 time: 0.202159ms                    pre: 0.83 rec: 0.81 f1: 0.82 acc: 0.86 items: 1192\n",
      "val   Epoch 36 loss: 0.033733 time: 0.537979ms                    pre: 1.00 rec: 1.00 f1: 1.00 acc: 0.99 items: 398\n",
      "train Epoch 37 loss: 0.401520 time: 0.218249ms                    pre: 0.82 rec: 0.80 f1: 0.81 acc: 0.86 items: 1192\n",
      "val   Epoch 37 loss: 0.031786 time: 0.604982ms                    pre: 1.00 rec: 1.00 f1: 1.00 acc: 0.99 items: 398\n",
      "train Epoch 38 loss: 0.407774 time: 0.207772ms                    pre: 0.81 rec: 0.80 f1: 0.80 acc: 0.86 items: 1192\n",
      "val   Epoch 38 loss: 0.031476 time: 0.541352ms                    pre: 1.00 rec: 1.00 f1: 1.00 acc: 0.99 items: 398\n",
      "train Epoch 39 loss: 0.371361 time: 0.224959ms                    pre: 0.82 rec: 0.79 f1: 0.80 acc: 0.87 items: 1192\n",
      "val   Epoch 39 loss: 0.030658 time: 0.542775ms                    pre: 1.00 rec: 1.00 f1: 1.00 acc: 0.99 items: 398\n",
      "train Epoch 40 loss: 0.357257 time: 0.187831ms                    pre: 0.85 rec: 0.82 f1: 0.83 acc: 0.88 items: 1192\n",
      "val   Epoch 40 loss: 0.028897 time: 0.456684ms                    pre: 1.00 rec: 1.00 f1: 1.00 acc: 0.99 items: 398\n",
      "train Epoch 41 loss: 0.348875 time: 0.162082ms                    pre: 0.86 rec: 0.83 f1: 0.84 acc: 0.88 items: 1192\n",
      "val   Epoch 41 loss: 0.029179 time: 0.446382ms                    pre: 1.00 rec: 1.00 f1: 1.00 acc: 0.99 items: 398\n",
      "train Epoch 42 loss: 0.338281 time: 0.144233ms                    pre: 0.84 rec: 0.83 f1: 0.84 acc: 0.88 items: 1192\n",
      "val   Epoch 42 loss: 0.027987 time: 0.402307ms                    pre: 1.00 rec: 1.00 f1: 1.00 acc: 0.99 items: 398\n",
      "train Epoch 43 loss: 0.340205 time: 0.140414ms                    pre: 0.84 rec: 0.83 f1: 0.83 acc: 0.89 items: 1192\n",
      "val   Epoch 43 loss: 0.027916 time: 0.441319ms                    pre: 1.00 rec: 1.00 f1: 1.00 acc: 0.99 items: 398\n",
      "train Epoch 44 loss: 0.304218 time: 0.144066ms                    pre: 0.88 rec: 0.85 f1: 0.86 acc: 0.90 items: 1192\n",
      "val   Epoch 44 loss: 0.027868 time: 0.430856ms                    pre: 1.00 rec: 1.00 f1: 1.00 acc: 0.99 items: 398\n",
      "train Epoch 45 loss: 0.330962 time: 0.142946ms                    pre: 0.86 rec: 0.85 f1: 0.86 acc: 0.89 items: 1192\n",
      "val   Epoch 45 loss: 0.026665 time: 0.496743ms                    pre: 1.00 rec: 1.00 f1: 1.00 acc: 0.99 items: 398\n",
      "train Epoch 46 loss: 0.296211 time: 0.151288ms                    pre: 0.90 rec: 0.88 f1: 0.89 acc: 0.90 items: 1192\n",
      "val   Epoch 46 loss: 0.026054 time: 0.420043ms                    pre: 1.00 rec: 1.00 f1: 1.00 acc: 0.99 items: 398\n",
      "train Epoch 47 loss: 0.315208 time: 0.162292ms                    pre: 0.88 rec: 0.84 f1: 0.85 acc: 0.89 items: 1192\n",
      "val   Epoch 47 loss: 0.024795 time: 0.512128ms                    pre: 1.00 rec: 1.00 f1: 1.00 acc: 0.99 items: 398\n",
      "train Epoch 48 loss: 0.296302 time: 0.160034ms                    pre: 0.88 rec: 0.86 f1: 0.87 acc: 0.90 items: 1192\n",
      "val   Epoch 48 loss: 0.025389 time: 0.501235ms                    pre: 1.00 rec: 1.00 f1: 1.00 acc: 0.99 items: 398\n",
      "train Epoch 49 loss: 0.312918 time: 0.168539ms                    pre: 0.87 rec: 0.84 f1: 0.85 acc: 0.89 items: 1192\n",
      "val   Epoch 49 loss: 0.025398 time: 0.506132ms                    pre: 1.00 rec: 1.00 f1: 1.00 acc: 0.99 items: 398\n",
      "train Epoch 50 loss: 0.261361 time: 0.230003ms                    pre: 0.88 rec: 0.85 f1: 0.86 acc: 0.90 items: 1192\n",
      "val   Epoch 50 loss: 0.024482 time: 0.524571ms                    pre: 1.00 rec: 1.00 f1: 1.00 acc: 0.99 items: 398\n",
      "train Epoch 51 loss: 0.251681 time: 0.201487ms                    pre: 0.88 rec: 0.86 f1: 0.87 acc: 0.91 items: 1192\n",
      "val   Epoch 51 loss: 0.023823 time: 0.490688ms                    pre: 1.00 rec: 1.00 f1: 1.00 acc: 0.99 items: 398\n",
      "train Epoch 52 loss: 0.256305 time: 0.158322ms                    pre: 0.90 rec: 0.86 f1: 0.88 acc: 0.91 items: 1192\n",
      "val   Epoch 52 loss: 0.023154 time: 0.393642ms                    pre: 1.00 rec: 1.00 f1: 1.00 acc: 0.99 items: 398\n",
      "train Epoch 53 loss: 0.259431 time: 0.144084ms                    pre: 0.90 rec: 0.86 f1: 0.88 acc: 0.91 items: 1192\n",
      "val   Epoch 53 loss: 0.022954 time: 0.453238ms                    pre: 1.00 rec: 1.00 f1: 1.00 acc: 0.99 items: 398\n",
      "train Epoch 54 loss: 0.275336 time: 0.161529ms                    pre: 0.89 rec: 0.87 f1: 0.88 acc: 0.90 items: 1192\n",
      "val   Epoch 54 loss: 0.023473 time: 0.452254ms                    pre: 1.00 rec: 1.00 f1: 1.00 acc: 0.99 items: 398\n",
      "train Epoch 55 loss: 0.236047 time: 0.174500ms                    pre: 0.90 rec: 0.88 f1: 0.89 acc: 0.92 items: 1192\n",
      "val   Epoch 55 loss: 0.022636 time: 0.418018ms                    pre: 1.00 rec: 1.00 f1: 1.00 acc: 0.99 items: 398\n",
      "train Epoch 56 loss: 0.253686 time: 0.152739ms                    pre: 0.88 rec: 0.88 f1: 0.88 acc: 0.91 items: 1192\n",
      "val   Epoch 56 loss: 0.022211 time: 0.400949ms                    pre: 1.00 rec: 1.00 f1: 1.00 acc: 0.99 items: 398\n",
      "train Epoch 57 loss: 0.243464 time: 0.143687ms                    pre: 0.89 rec: 0.88 f1: 0.88 acc: 0.92 items: 1192\n",
      "val   Epoch 57 loss: 0.022096 time: 0.386994ms                    pre: 1.00 rec: 1.00 f1: 1.00 acc: 0.99 items: 398\n",
      "train Epoch 58 loss: 0.219771 time: 0.139298ms                    pre: 0.90 rec: 0.90 f1: 0.90 acc: 0.93 items: 1192\n",
      "val   Epoch 58 loss: 0.021340 time: 0.380988ms                    pre: 1.00 rec: 1.00 f1: 1.00 acc: 0.99 items: 398\n",
      "train Epoch 59 loss: 0.217178 time: 0.139556ms                    pre: 0.92 rec: 0.88 f1: 0.90 acc: 0.93 items: 1192\n",
      "val   Epoch 59 loss: 0.020347 time: 0.402912ms                    pre: 1.00 rec: 1.00 f1: 1.00 acc: 0.99 items: 398\n",
      "train Epoch 60 loss: 0.205105 time: 0.141851ms                    pre: 0.91 rec: 0.90 f1: 0.90 acc: 0.94 items: 1192\n",
      "val   Epoch 60 loss: 0.020955 time: 0.379161ms                    pre: 1.00 rec: 1.00 f1: 1.00 acc: 0.99 items: 398\n",
      "train Epoch 61 loss: 0.234535 time: 0.148465ms                    pre: 0.92 rec: 0.89 f1: 0.90 acc: 0.92 items: 1192\n",
      "val   Epoch 61 loss: 0.020360 time: 0.382767ms                    pre: 1.00 rec: 1.00 f1: 1.00 acc: 0.99 items: 398\n",
      "train Epoch 62 loss: 0.204910 time: 0.139051ms                    pre: 0.92 rec: 0.90 f1: 0.91 acc: 0.94 items: 1192\n",
      "val   Epoch 62 loss: 0.020089 time: 0.371956ms                    pre: 1.00 rec: 1.00 f1: 1.00 acc: 0.99 items: 398\n",
      "train Epoch 63 loss: 0.221017 time: 0.157682ms                    pre: 0.91 rec: 0.90 f1: 0.90 acc: 0.92 items: 1192\n",
      "val   Epoch 63 loss: 0.019636 time: 0.448401ms                    pre: 1.00 rec: 1.00 f1: 1.00 acc: 0.99 items: 398\n",
      "train Epoch 64 loss: 0.206274 time: 0.139677ms                    pre: 0.92 rec: 0.91 f1: 0.92 acc: 0.93 items: 1192\n",
      "val   Epoch 64 loss: 0.020015 time: 0.376506ms                    pre: 1.00 rec: 1.00 f1: 1.00 acc: 0.99 items: 398\n",
      "train Epoch 65 loss: 0.206799 time: 0.140599ms                    pre: 0.91 rec: 0.90 f1: 0.90 acc: 0.93 items: 1192\n",
      "val   Epoch 65 loss: 0.019803 time: 0.410359ms                    pre: 1.00 rec: 1.00 f1: 1.00 acc: 0.99 items: 398\n",
      "train Epoch 66 loss: 0.175973 time: 0.165192ms                    pre: 0.93 rec: 0.92 f1: 0.92 acc: 0.94 items: 1192\n",
      "val   Epoch 66 loss: 0.018671 time: 0.435970ms                    pre: 1.00 rec: 1.00 f1: 1.00 acc: 0.99 items: 398\n",
      "train Epoch 67 loss: 0.196766 time: 0.160593ms                    pre: 0.93 rec: 0.91 f1: 0.92 acc: 0.94 items: 1192\n",
      "val   Epoch 67 loss: 0.018568 time: 0.396709ms                    pre: 1.00 rec: 1.00 f1: 1.00 acc: 0.99 items: 398\n",
      "train Epoch 68 loss: 0.158553 time: 0.138551ms                    pre: 0.93 rec: 0.91 f1: 0.92 acc: 0.94 items: 1192\n",
      "val   Epoch 68 loss: 0.018426 time: 0.375244ms                    pre: 1.00 rec: 1.00 f1: 1.00 acc: 0.99 items: 398\n",
      "train Epoch 69 loss: 0.201827 time: 0.136591ms                    pre: 0.91 rec: 0.91 f1: 0.91 acc: 0.94 items: 1192\n",
      "val   Epoch 69 loss: 0.018153 time: 0.378348ms                    pre: 1.00 rec: 1.00 f1: 1.00 acc: 0.99 items: 398\n",
      "train Epoch 70 loss: 0.181922 time: 0.137296ms                    pre: 0.91 rec: 0.92 f1: 0.91 acc: 0.94 items: 1192\n",
      "val   Epoch 70 loss: 0.018308 time: 0.374859ms                    pre: 1.00 rec: 1.00 f1: 1.00 acc: 0.99 items: 398\n",
      "train Epoch 71 loss: 0.193082 time: 0.149157ms                    pre: 0.92 rec: 0.90 f1: 0.91 acc: 0.93 items: 1192\n"
     ]
    },
    {
     "name": "stdout",
     "output_type": "stream",
     "text": [
      "val   Epoch 71 loss: 0.017693 time: 0.385487ms                    pre: 1.00 rec: 1.00 f1: 1.00 acc: 0.99 items: 398\n",
      "train Epoch 72 loss: 0.183146 time: 0.137914ms                    pre: 0.92 rec: 0.90 f1: 0.91 acc: 0.94 items: 1192\n",
      "val   Epoch 72 loss: 0.017578 time: 0.375729ms                    pre: 1.00 rec: 1.00 f1: 1.00 acc: 0.99 items: 398\n",
      "train Epoch 73 loss: 0.164809 time: 0.136660ms                    pre: 0.93 rec: 0.93 f1: 0.93 acc: 0.95 items: 1192\n",
      "val   Epoch 73 loss: 0.018173 time: 0.382876ms                    pre: 1.00 rec: 1.00 f1: 1.00 acc: 0.99 items: 398\n",
      "train Epoch 74 loss: 0.168218 time: 0.139347ms                    pre: 0.93 rec: 0.92 f1: 0.93 acc: 0.94 items: 1192\n",
      "val   Epoch 74 loss: 0.017402 time: 0.373820ms                    pre: 1.00 rec: 1.00 f1: 1.00 acc: 0.99 items: 398\n",
      "train Epoch 75 loss: 0.146101 time: 0.145219ms                    pre: 0.95 rec: 0.92 f1: 0.93 acc: 0.95 items: 1192\n",
      "val   Epoch 75 loss: 0.017393 time: 0.404416ms                    pre: 1.00 rec: 1.00 f1: 1.00 acc: 0.99 items: 398\n",
      "train Epoch 76 loss: 0.170934 time: 0.176308ms                    pre: 0.92 rec: 0.90 f1: 0.91 acc: 0.94 items: 1192\n",
      "val   Epoch 76 loss: 0.016946 time: 0.510492ms                    pre: 1.00 rec: 1.00 f1: 1.00 acc: 0.99 items: 398\n",
      "train Epoch 77 loss: 0.163111 time: 0.152682ms                    pre: 0.93 rec: 0.93 f1: 0.93 acc: 0.95 items: 1192\n",
      "val   Epoch 77 loss: 0.017841 time: 0.399426ms                    pre: 1.00 rec: 1.00 f1: 1.00 acc: 0.99 items: 398\n",
      "train Epoch 78 loss: 0.142641 time: 0.136174ms                    pre: 0.95 rec: 0.95 f1: 0.95 acc: 0.96 items: 1192\n",
      "val   Epoch 78 loss: 0.016140 time: 0.367848ms                    pre: 1.00 rec: 1.00 f1: 1.00 acc: 0.99 items: 398\n",
      "train Epoch 79 loss: 0.162611 time: 0.140039ms                    pre: 0.94 rec: 0.94 f1: 0.94 acc: 0.95 items: 1192\n",
      "val   Epoch 79 loss: 0.016721 time: 0.371912ms                    pre: 1.00 rec: 1.00 f1: 1.00 acc: 0.99 items: 398\n",
      "train Epoch 80 loss: 0.153467 time: 0.145992ms                    pre: 0.92 rec: 0.91 f1: 0.92 acc: 0.95 items: 1192\n",
      "val   Epoch 80 loss: 0.017031 time: 0.387734ms                    pre: 1.00 rec: 1.00 f1: 1.00 acc: 0.99 items: 398\n",
      "train Epoch 81 loss: 0.148434 time: 0.147006ms                    pre: 0.94 rec: 0.93 f1: 0.94 acc: 0.95 items: 1192\n",
      "val   Epoch 81 loss: 0.016517 time: 0.386653ms                    pre: 1.00 rec: 1.00 f1: 1.00 acc: 0.99 items: 398\n",
      "train Epoch 82 loss: 0.160224 time: 0.140104ms                    pre: 0.94 rec: 0.90 f1: 0.91 acc: 0.95 items: 1192\n",
      "val   Epoch 82 loss: 0.016677 time: 0.380617ms                    pre: 1.00 rec: 1.00 f1: 1.00 acc: 0.99 items: 398\n",
      "train Epoch 83 loss: 0.134116 time: 0.144237ms                    pre: 0.95 rec: 0.95 f1: 0.95 acc: 0.96 items: 1192\n",
      "val   Epoch 83 loss: 0.015520 time: 0.393101ms                    pre: 1.00 rec: 1.00 f1: 1.00 acc: 0.99 items: 398\n",
      "train Epoch 84 loss: 0.127716 time: 0.151655ms                    pre: 0.94 rec: 0.95 f1: 0.94 acc: 0.96 items: 1192\n",
      "val   Epoch 84 loss: 0.016103 time: 0.391726ms                    pre: 1.00 rec: 1.00 f1: 1.00 acc: 0.99 items: 398\n",
      "train Epoch 85 loss: 0.124607 time: 0.139554ms                    pre: 0.95 rec: 0.92 f1: 0.93 acc: 0.95 items: 1192\n",
      "val   Epoch 85 loss: 0.015541 time: 0.379059ms                    pre: 1.00 rec: 1.00 f1: 1.00 acc: 0.99 items: 398\n",
      "train Epoch 86 loss: 0.132378 time: 0.146003ms                    pre: 0.95 rec: 0.94 f1: 0.94 acc: 0.96 items: 1192\n",
      "val   Epoch 86 loss: 0.015222 time: 0.379966ms                    pre: 1.00 rec: 1.00 f1: 1.00 acc: 0.99 items: 398\n",
      "train Epoch 87 loss: 0.144610 time: 0.154692ms                    pre: 0.95 rec: 0.94 f1: 0.94 acc: 0.96 items: 1192\n",
      "val   Epoch 87 loss: 0.015354 time: 0.392355ms                    pre: 1.00 rec: 1.00 f1: 1.00 acc: 0.99 items: 398\n",
      "train Epoch 88 loss: 0.139669 time: 0.146604ms                    pre: 0.95 rec: 0.94 f1: 0.95 acc: 0.95 items: 1192\n",
      "val   Epoch 88 loss: 0.015494 time: 0.404371ms                    pre: 1.00 rec: 1.00 f1: 1.00 acc: 0.99 items: 398\n",
      "train Epoch 89 loss: 0.137679 time: 0.153233ms                    pre: 0.94 rec: 0.93 f1: 0.94 acc: 0.95 items: 1192\n",
      "val   Epoch 89 loss: 0.015702 time: 0.404980ms                    pre: 1.00 rec: 1.00 f1: 1.00 acc: 0.99 items: 398\n",
      "train Epoch 90 loss: 0.126671 time: 0.159515ms                    pre: 0.94 rec: 0.93 f1: 0.93 acc: 0.96 items: 1192\n",
      "val   Epoch 90 loss: 0.014986 time: 0.414060ms                    pre: 1.00 rec: 1.00 f1: 1.00 acc: 0.99 items: 398\n",
      "train Epoch 91 loss: 0.123040 time: 0.170535ms                    pre: 0.96 rec: 0.95 f1: 0.96 acc: 0.96 items: 1192\n",
      "val   Epoch 91 loss: 0.014836 time: 0.448381ms                    pre: 1.00 rec: 1.00 f1: 1.00 acc: 0.99 items: 398\n",
      "train Epoch 92 loss: 0.116775 time: 0.175215ms                    pre: 0.96 rec: 0.96 f1: 0.96 acc: 0.96 items: 1192\n",
      "val   Epoch 92 loss: 0.015353 time: 0.436448ms                    pre: 1.00 rec: 1.00 f1: 1.00 acc: 0.99 items: 398\n",
      "train Epoch 93 loss: 0.117597 time: 0.138341ms                    pre: 0.94 rec: 0.94 f1: 0.94 acc: 0.96 items: 1192\n",
      "val   Epoch 93 loss: 0.014785 time: 0.381093ms                    pre: 1.00 rec: 1.00 f1: 1.00 acc: 0.99 items: 398\n",
      "train Epoch 94 loss: 0.119903 time: 0.141166ms                    pre: 0.94 rec: 0.95 f1: 0.94 acc: 0.96 items: 1192\n",
      "val   Epoch 94 loss: 0.014899 time: 0.378801ms                    pre: 1.00 rec: 1.00 f1: 1.00 acc: 0.99 items: 398\n",
      "train Epoch 95 loss: 0.130964 time: 0.139599ms                    pre: 0.95 rec: 0.92 f1: 0.93 acc: 0.96 items: 1192\n",
      "val   Epoch 95 loss: 0.014647 time: 0.382561ms                    pre: 1.00 rec: 1.00 f1: 1.00 acc: 0.99 items: 398\n",
      "train Epoch 96 loss: 0.102025 time: 0.146431ms                    pre: 0.97 rec: 0.96 f1: 0.96 acc: 0.97 items: 1192\n",
      "val   Epoch 96 loss: 0.014463 time: 0.396287ms                    pre: 1.00 rec: 1.00 f1: 1.00 acc: 0.99 items: 398\n",
      "train Epoch 97 loss: 0.094482 time: 0.141343ms                    pre: 0.97 rec: 0.96 f1: 0.96 acc: 0.97 items: 1192\n",
      "val   Epoch 97 loss: 0.014237 time: 0.378060ms                    pre: 1.00 rec: 1.00 f1: 1.00 acc: 0.99 items: 398\n",
      "train Epoch 98 loss: 0.101368 time: 0.176046ms                    pre: 0.96 rec: 0.96 f1: 0.96 acc: 0.97 items: 1192\n",
      "val   Epoch 98 loss: 0.014529 time: 0.441802ms                    pre: 1.00 rec: 1.00 f1: 1.00 acc: 0.99 items: 398\n",
      "train Epoch 99 loss: 0.098009 time: 0.143523ms                    pre: 0.98 rec: 0.96 f1: 0.97 acc: 0.97 items: 1192\n",
      "val   Epoch 99 loss: 0.014112 time: 0.452795ms                    pre: 1.00 rec: 1.00 f1: 1.00 acc: 0.99 items: 398\n",
      "train Epoch 100 loss: 0.124024 time: 0.255506ms                    pre: 0.94 rec: 0.94 f1: 0.94 acc: 0.96 items: 1192\n",
      "val   Epoch 100 loss: 0.014162 time: 0.633331ms                    pre: 1.00 rec: 1.00 f1: 1.00 acc: 0.99 items: 398\n",
      "train Epoch 101 loss: 0.108114 time: 0.203438ms                    pre: 0.95 rec: 0.96 f1: 0.95 acc: 0.96 items: 1192\n",
      "val   Epoch 101 loss: 0.014041 time: 0.453870ms                    pre: 1.00 rec: 1.00 f1: 1.00 acc: 0.99 items: 398\n",
      "train Epoch 102 loss: 0.106032 time: 0.146725ms                    pre: 0.95 rec: 0.95 f1: 0.95 acc: 0.97 items: 1192\n",
      "val   Epoch 102 loss: 0.014434 time: 0.504434ms                    pre: 1.00 rec: 1.00 f1: 1.00 acc: 0.99 items: 398\n",
      "train Epoch 103 loss: 0.110219 time: 0.230867ms                    pre: 0.97 rec: 0.97 f1: 0.97 acc: 0.97 items: 1192\n",
      "val   Epoch 103 loss: 0.013449 time: 0.570192ms                    pre: 1.00 rec: 1.00 f1: 1.00 acc: 0.99 items: 398\n",
      "train Epoch 104 loss: 0.103430 time: 0.201291ms                    pre: 0.96 rec: 0.95 f1: 0.96 acc: 0.97 items: 1192\n",
      "val   Epoch 104 loss: 0.013744 time: 0.532038ms                    pre: 1.00 rec: 1.00 f1: 1.00 acc: 0.99 items: 398\n",
      "train Epoch 105 loss: 0.091455 time: 0.168193ms                    pre: 0.96 rec: 0.96 f1: 0.96 acc: 0.97 items: 1192\n",
      "val   Epoch 105 loss: 0.013642 time: 0.412043ms                    pre: 1.00 rec: 1.00 f1: 1.00 acc: 0.99 items: 398\n",
      "train Epoch 106 loss: 0.094800 time: 0.136663ms                    pre: 0.96 rec: 0.96 f1: 0.96 acc: 0.97 items: 1192\n",
      "val   Epoch 106 loss: 0.012950 time: 0.378224ms                    pre: 1.00 rec: 1.00 f1: 1.00 acc: 0.99 items: 398\n",
      "train Epoch 107 loss: 0.098914 time: 0.137009ms                    pre: 0.96 rec: 0.96 f1: 0.96 acc: 0.97 items: 1192\n"
     ]
    },
    {
     "name": "stdout",
     "output_type": "stream",
     "text": [
      "val   Epoch 107 loss: 0.013744 time: 0.373911ms                    pre: 1.00 rec: 1.00 f1: 1.00 acc: 0.99 items: 398\n",
      "train Epoch 108 loss: 0.089898 time: 0.139690ms                    pre: 0.96 rec: 0.96 f1: 0.96 acc: 0.97 items: 1192\n",
      "val   Epoch 108 loss: 0.013308 time: 0.386144ms                    pre: 1.00 rec: 1.00 f1: 1.00 acc: 0.99 items: 398\n",
      "train Epoch 109 loss: 0.116258 time: 0.184064ms                    pre: 0.95 rec: 0.94 f1: 0.94 acc: 0.96 items: 1192\n",
      "val   Epoch 109 loss: 0.013550 time: 0.478471ms                    pre: 1.00 rec: 1.00 f1: 1.00 acc: 0.99 items: 398\n",
      "train Epoch 110 loss: 0.084976 time: 0.153650ms                    pre: 0.96 rec: 0.96 f1: 0.96 acc: 0.98 items: 1192\n",
      "val   Epoch 110 loss: 0.013506 time: 0.393956ms                    pre: 1.00 rec: 1.00 f1: 1.00 acc: 0.99 items: 398\n",
      "train Epoch 111 loss: 0.094431 time: 0.136730ms                    pre: 0.97 rec: 0.97 f1: 0.97 acc: 0.97 items: 1192\n",
      "val   Epoch 111 loss: 0.013436 time: 0.417725ms                    pre: 1.00 rec: 1.00 f1: 1.00 acc: 0.99 items: 398\n",
      "train Epoch 112 loss: 0.092253 time: 0.179124ms                    pre: 0.96 rec: 0.96 f1: 0.96 acc: 0.97 items: 1192\n",
      "val   Epoch 112 loss: 0.013003 time: 0.420430ms                    pre: 1.00 rec: 1.00 f1: 1.00 acc: 0.99 items: 398\n",
      "train Epoch 113 loss: 0.089450 time: 0.138726ms                    pre: 0.97 rec: 0.96 f1: 0.97 acc: 0.97 items: 1192\n",
      "val   Epoch 113 loss: 0.013062 time: 0.386608ms                    pre: 1.00 rec: 1.00 f1: 1.00 acc: 0.99 items: 398\n",
      "train Epoch 114 loss: 0.076666 time: 0.140302ms                    pre: 0.97 rec: 0.97 f1: 0.97 acc: 0.98 items: 1192\n",
      "val   Epoch 114 loss: 0.012429 time: 0.384977ms                    pre: 1.00 rec: 1.00 f1: 1.00 acc: 0.99 items: 398\n",
      "train Epoch 115 loss: 0.075599 time: 0.138091ms                    pre: 0.97 rec: 0.95 f1: 0.96 acc: 0.98 items: 1192\n",
      "val   Epoch 115 loss: 0.012515 time: 0.372994ms                    pre: 1.00 rec: 1.00 f1: 1.00 acc: 0.99 items: 398\n",
      "train Epoch 116 loss: 0.086901 time: 0.137593ms                    pre: 0.96 rec: 0.98 f1: 0.97 acc: 0.97 items: 1192\n",
      "val   Epoch 116 loss: 0.012991 time: 0.373368ms                    pre: 1.00 rec: 1.00 f1: 1.00 acc: 0.99 items: 398\n",
      "train Epoch 117 loss: 0.072995 time: 0.139520ms                    pre: 0.99 rec: 0.98 f1: 0.98 acc: 0.99 items: 1192\n",
      "val   Epoch 117 loss: 0.012728 time: 0.390193ms                    pre: 1.00 rec: 1.00 f1: 1.00 acc: 0.99 items: 398\n",
      "train Epoch 118 loss: 0.089564 time: 0.137333ms                    pre: 0.96 rec: 0.96 f1: 0.96 acc: 0.97 items: 1192\n",
      "val   Epoch 118 loss: 0.012563 time: 0.377645ms                    pre: 1.00 rec: 1.00 f1: 1.00 acc: 0.99 items: 398\n",
      "train Epoch 119 loss: 0.069501 time: 0.138254ms                    pre: 0.97 rec: 0.97 f1: 0.97 acc: 0.98 items: 1192\n",
      "val   Epoch 119 loss: 0.012289 time: 0.443208ms                    pre: 1.00 rec: 1.00 f1: 1.00 acc: 0.99 items: 398\n",
      "train Epoch 120 loss: 0.072618 time: 0.175375ms                    pre: 0.98 rec: 0.97 f1: 0.97 acc: 0.98 items: 1192\n",
      "val   Epoch 120 loss: 0.011940 time: 0.431771ms                    pre: 1.00 rec: 1.00 f1: 1.00 acc: 1.00 items: 398\n",
      "train Epoch 121 loss: 0.087653 time: 0.190966ms                    pre: 0.97 rec: 0.96 f1: 0.96 acc: 0.97 items: 1192\n",
      "val   Epoch 121 loss: 0.012331 time: 0.545983ms                    pre: 1.00 rec: 1.00 f1: 1.00 acc: 0.99 items: 398\n",
      "train Epoch 122 loss: 0.087557 time: 0.257060ms                    pre: 0.96 rec: 0.97 f1: 0.96 acc: 0.97 items: 1192\n",
      "val   Epoch 122 loss: 0.012686 time: 0.550528ms                    pre: 1.00 rec: 1.00 f1: 1.00 acc: 0.99 items: 398\n",
      "train Epoch 123 loss: 0.088832 time: 0.169937ms                    pre: 0.97 rec: 0.96 f1: 0.97 acc: 0.97 items: 1192\n",
      "val   Epoch 123 loss: 0.012364 time: 0.423129ms                    pre: 1.00 rec: 1.00 f1: 1.00 acc: 0.99 items: 398\n",
      "train Epoch 124 loss: 0.062351 time: 0.142769ms                    pre: 0.98 rec: 0.98 f1: 0.98 acc: 0.98 items: 1192\n",
      "val   Epoch 124 loss: 0.012085 time: 0.380627ms                    pre: 1.00 rec: 1.00 f1: 1.00 acc: 0.99 items: 398\n",
      "train Epoch 125 loss: 0.065294 time: 0.139384ms                    pre: 0.98 rec: 0.98 f1: 0.98 acc: 0.98 items: 1192\n",
      "val   Epoch 125 loss: 0.012067 time: 0.381891ms                    pre: 1.00 rec: 1.00 f1: 1.00 acc: 0.99 items: 398\n",
      "train Epoch 126 loss: 0.079357 time: 0.144633ms                    pre: 0.98 rec: 0.96 f1: 0.97 acc: 0.97 items: 1192\n",
      "val   Epoch 126 loss: 0.012618 time: 0.380424ms                    pre: 1.00 rec: 1.00 f1: 1.00 acc: 0.99 items: 398\n",
      "train Epoch 127 loss: 0.074937 time: 0.138282ms                    pre: 0.97 rec: 0.96 f1: 0.96 acc: 0.98 items: 1192\n",
      "val   Epoch 127 loss: 0.012155 time: 0.372371ms                    pre: 1.00 rec: 1.00 f1: 1.00 acc: 0.99 items: 398\n",
      "train Epoch 128 loss: 0.075536 time: 0.170160ms                    pre: 0.96 rec: 0.97 f1: 0.96 acc: 0.98 items: 1192\n",
      "val   Epoch 128 loss: 0.011909 time: 0.489188ms                    pre: 1.00 rec: 1.00 f1: 1.00 acc: 0.99 items: 398\n",
      "train Epoch 129 loss: 0.082911 time: 0.204053ms                    pre: 0.97 rec: 0.97 f1: 0.97 acc: 0.97 items: 1192\n",
      "val   Epoch 129 loss: 0.012096 time: 0.452671ms                    pre: 1.00 rec: 1.00 f1: 1.00 acc: 0.99 items: 398\n",
      "train Epoch 130 loss: 0.070416 time: 0.153341ms                    pre: 0.97 rec: 0.96 f1: 0.97 acc: 0.98 items: 1192\n",
      "val   Epoch 130 loss: 0.011644 time: 0.401817ms                    pre: 1.00 rec: 1.00 f1: 1.00 acc: 0.99 items: 398\n",
      "train Epoch 131 loss: 0.080371 time: 0.195450ms                    pre: 0.97 rec: 0.98 f1: 0.97 acc: 0.97 items: 1192\n",
      "val   Epoch 131 loss: 0.011789 time: 0.449301ms                    pre: 1.00 rec: 1.00 f1: 1.00 acc: 0.99 items: 398\n",
      "train Epoch 132 loss: 0.063483 time: 0.146497ms                    pre: 0.98 rec: 0.98 f1: 0.98 acc: 0.98 items: 1192\n",
      "val   Epoch 132 loss: 0.011781 time: 0.399027ms                    pre: 1.00 rec: 1.00 f1: 1.00 acc: 0.99 items: 398\n",
      "train Epoch 133 loss: 0.078030 time: 0.145235ms                    pre: 0.98 rec: 0.96 f1: 0.97 acc: 0.98 items: 1192\n",
      "val   Epoch 133 loss: 0.011708 time: 0.388168ms                    pre: 1.00 rec: 1.00 f1: 1.00 acc: 0.99 items: 398\n",
      "train Epoch 134 loss: 0.071641 time: 0.137476ms                    pre: 0.99 rec: 0.97 f1: 0.97 acc: 0.98 items: 1192\n",
      "val   Epoch 134 loss: 0.012134 time: 0.433787ms                    pre: 1.00 rec: 1.00 f1: 1.00 acc: 0.99 items: 398\n",
      "train Epoch 135 loss: 0.080017 time: 0.161527ms                    pre: 0.97 rec: 0.96 f1: 0.96 acc: 0.97 items: 1192\n",
      "val   Epoch 135 loss: 0.012316 time: 0.434857ms                    pre: 1.00 rec: 1.00 f1: 1.00 acc: 0.99 items: 398\n",
      "train Epoch 136 loss: 0.072351 time: 0.164667ms                    pre: 0.98 rec: 0.97 f1: 0.97 acc: 0.98 items: 1192\n",
      "val   Epoch 136 loss: 0.011971 time: 0.429519ms                    pre: 1.00 rec: 1.00 f1: 1.00 acc: 0.99 items: 398\n",
      "train Epoch 137 loss: 0.076381 time: 0.171363ms                    pre: 0.97 rec: 0.97 f1: 0.97 acc: 0.98 items: 1192\n",
      "val   Epoch 137 loss: 0.011636 time: 0.446051ms                    pre: 1.00 rec: 1.00 f1: 1.00 acc: 0.99 items: 398\n",
      "train Epoch 138 loss: 0.067210 time: 0.163169ms                    pre: 0.97 rec: 0.96 f1: 0.97 acc: 0.97 items: 1192\n",
      "val   Epoch 138 loss: 0.011968 time: 0.488197ms                    pre: 1.00 rec: 1.00 f1: 1.00 acc: 0.99 items: 398\n",
      "train Epoch 139 loss: 0.057974 time: 0.197948ms                    pre: 0.98 rec: 0.99 f1: 0.98 acc: 0.98 items: 1192\n",
      "val   Epoch 139 loss: 0.011294 time: 0.592566ms                    pre: 1.00 rec: 1.00 f1: 1.00 acc: 0.99 items: 398\n",
      "train Epoch 140 loss: 0.068447 time: 0.149783ms                    pre: 0.98 rec: 0.96 f1: 0.97 acc: 0.98 items: 1192\n",
      "val   Epoch 140 loss: 0.011935 time: 0.429923ms                    pre: 1.00 rec: 1.00 f1: 1.00 acc: 0.99 items: 398\n",
      "train Epoch 141 loss: 0.066478 time: 0.190039ms                    pre: 0.98 rec: 0.97 f1: 0.97 acc: 0.98 items: 1192\n",
      "val   Epoch 141 loss: 0.011499 time: 0.421850ms                    pre: 1.00 rec: 1.00 f1: 1.00 acc: 0.99 items: 398\n",
      "train Epoch 142 loss: 0.069664 time: 0.144529ms                    pre: 0.97 rec: 0.97 f1: 0.97 acc: 0.98 items: 1192\n"
     ]
    },
    {
     "name": "stdout",
     "output_type": "stream",
     "text": [
      "val   Epoch 142 loss: 0.012632 time: 0.391943ms                    pre: 1.00 rec: 1.00 f1: 1.00 acc: 0.99 items: 398\n",
      "train Epoch 143 loss: 0.055642 time: 0.138203ms                    pre: 0.98 rec: 0.98 f1: 0.98 acc: 0.98 items: 1192\n",
      "val   Epoch 143 loss: 0.011648 time: 0.383697ms                    pre: 1.00 rec: 1.00 f1: 1.00 acc: 0.99 items: 398\n",
      "train Epoch 144 loss: 0.058168 time: 0.138120ms                    pre: 0.97 rec: 0.98 f1: 0.98 acc: 0.98 items: 1192\n",
      "val   Epoch 144 loss: 0.011534 time: 0.363893ms                    pre: 1.00 rec: 1.00 f1: 1.00 acc: 1.00 items: 398\n",
      "train Epoch 145 loss: 0.058116 time: 0.139781ms                    pre: 0.98 rec: 0.98 f1: 0.98 acc: 0.98 items: 1192\n",
      "val   Epoch 145 loss: 0.011598 time: 0.371905ms                    pre: 1.00 rec: 1.00 f1: 1.00 acc: 0.99 items: 398\n",
      "train Epoch 146 loss: 0.060794 time: 0.148755ms                    pre: 0.98 rec: 0.97 f1: 0.98 acc: 0.99 items: 1192\n",
      "val   Epoch 146 loss: 0.011413 time: 0.388809ms                    pre: 1.00 rec: 1.00 f1: 1.00 acc: 0.99 items: 398\n",
      "train Epoch 147 loss: 0.055220 time: 0.138764ms                    pre: 0.99 rec: 0.99 f1: 0.99 acc: 0.99 items: 1192\n",
      "val   Epoch 147 loss: 0.011478 time: 0.378870ms                    pre: 1.00 rec: 1.00 f1: 1.00 acc: 0.99 items: 398\n",
      "train Epoch 148 loss: 0.051732 time: 0.139583ms                    pre: 0.99 rec: 0.98 f1: 0.98 acc: 0.99 items: 1192\n",
      "val   Epoch 148 loss: 0.011239 time: 0.376432ms                    pre: 1.00 rec: 1.00 f1: 1.00 acc: 0.99 items: 398\n",
      "train Epoch 149 loss: 0.063284 time: 0.144803ms                    pre: 0.98 rec: 0.97 f1: 0.97 acc: 0.98 items: 1192\n",
      "val   Epoch 149 loss: 0.010810 time: 0.371647ms                    pre: 1.00 rec: 1.00 f1: 1.00 acc: 1.00 items: 398\n",
      "train Epoch 150 loss: 0.055119 time: 0.137959ms                    pre: 0.98 rec: 0.97 f1: 0.97 acc: 0.98 items: 1192\n",
      "val   Epoch 150 loss: 0.010666 time: 0.369149ms                    pre: 1.00 rec: 1.00 f1: 1.00 acc: 1.00 items: 398\n",
      "train Epoch 151 loss: 0.049102 time: 0.140741ms                    pre: 0.98 rec: 0.99 f1: 0.99 acc: 0.99 items: 1192\n",
      "val   Epoch 151 loss: 0.011286 time: 0.383517ms                    pre: 1.00 rec: 1.00 f1: 1.00 acc: 1.00 items: 398\n",
      "train Epoch 152 loss: 0.050311 time: 0.141335ms                    pre: 0.99 rec: 0.99 f1: 0.99 acc: 0.99 items: 1192\n",
      "val   Epoch 152 loss: 0.010892 time: 0.371700ms                    pre: 1.00 rec: 1.00 f1: 1.00 acc: 0.99 items: 398\n",
      "train Epoch 153 loss: 0.051573 time: 0.140338ms                    pre: 0.98 rec: 0.98 f1: 0.98 acc: 0.99 items: 1192\n",
      "val   Epoch 153 loss: 0.010742 time: 0.369015ms                    pre: 1.00 rec: 1.00 f1: 1.00 acc: 1.00 items: 398\n",
      "train Epoch 154 loss: 0.052355 time: 0.147309ms                    pre: 0.98 rec: 0.97 f1: 0.98 acc: 0.99 items: 1192\n",
      "val   Epoch 154 loss: 0.010813 time: 0.382171ms                    pre: 1.00 rec: 1.00 f1: 1.00 acc: 1.00 items: 398\n",
      "train Epoch 155 loss: 0.068257 time: 0.138765ms                    pre: 0.97 rec: 0.98 f1: 0.97 acc: 0.98 items: 1192\n",
      "val   Epoch 155 loss: 0.010601 time: 0.369579ms                    pre: 1.00 rec: 1.00 f1: 1.00 acc: 1.00 items: 398\n",
      "train Epoch 156 loss: 0.048320 time: 0.143394ms                    pre: 0.99 rec: 0.98 f1: 0.99 acc: 0.99 items: 1192\n",
      "val   Epoch 156 loss: 0.011078 time: 0.381542ms                    pre: 1.00 rec: 1.00 f1: 1.00 acc: 1.00 items: 398\n",
      "train Epoch 157 loss: 0.053351 time: 0.139040ms                    pre: 0.98 rec: 0.98 f1: 0.98 acc: 0.99 items: 1192\n",
      "val   Epoch 157 loss: 0.010764 time: 0.365923ms                    pre: 1.00 rec: 1.00 f1: 1.00 acc: 1.00 items: 398\n",
      "train Epoch 158 loss: 0.066902 time: 0.137694ms                    pre: 0.97 rec: 0.97 f1: 0.97 acc: 0.98 items: 1192\n",
      "val   Epoch 158 loss: 0.011372 time: 0.376881ms                    pre: 1.00 rec: 1.00 f1: 1.00 acc: 0.99 items: 398\n",
      "train Epoch 159 loss: 0.056960 time: 0.147757ms                    pre: 0.98 rec: 0.97 f1: 0.98 acc: 0.98 items: 1192\n",
      "val   Epoch 159 loss: 0.010880 time: 0.413111ms                    pre: 1.00 rec: 1.00 f1: 1.00 acc: 0.99 items: 398\n",
      "train Epoch 160 loss: 0.054271 time: 0.156583ms                    pre: 0.99 rec: 0.98 f1: 0.98 acc: 0.99 items: 1192\n",
      "val   Epoch 160 loss: 0.010904 time: 0.385007ms                    pre: 1.00 rec: 1.00 f1: 1.00 acc: 1.00 items: 398\n",
      "train Epoch 161 loss: 0.045343 time: 0.137617ms                    pre: 0.99 rec: 0.98 f1: 0.98 acc: 0.99 items: 1192\n",
      "val   Epoch 161 loss: 0.010540 time: 0.410207ms                    pre: 1.00 rec: 1.00 f1: 1.00 acc: 0.99 items: 398\n",
      "train Epoch 162 loss: 0.045095 time: 0.162255ms                    pre: 0.98 rec: 0.98 f1: 0.98 acc: 0.99 items: 1192\n",
      "val   Epoch 162 loss: 0.011406 time: 0.429805ms                    pre: 1.00 rec: 1.00 f1: 1.00 acc: 0.99 items: 398\n",
      "train Epoch 163 loss: 0.049650 time: 0.160304ms                    pre: 0.98 rec: 0.98 f1: 0.98 acc: 0.99 items: 1192\n",
      "val   Epoch 163 loss: 0.010479 time: 0.392550ms                    pre: 1.00 rec: 1.00 f1: 1.00 acc: 1.00 items: 398\n",
      "train Epoch 164 loss: 0.042736 time: 0.141380ms                    pre: 0.99 rec: 0.98 f1: 0.98 acc: 0.99 items: 1192\n",
      "val   Epoch 164 loss: 0.010859 time: 0.377294ms                    pre: 1.00 rec: 1.00 f1: 1.00 acc: 0.99 items: 398\n",
      "train Epoch 165 loss: 0.052231 time: 0.141625ms                    pre: 0.98 rec: 0.98 f1: 0.98 acc: 0.98 items: 1192\n",
      "val   Epoch 165 loss: 0.010807 time: 0.379426ms                    pre: 1.00 rec: 1.00 f1: 1.00 acc: 0.99 items: 398\n",
      "train Epoch 166 loss: 0.039752 time: 0.139300ms                    pre: 0.99 rec: 0.98 f1: 0.99 acc: 0.99 items: 1192\n",
      "val   Epoch 166 loss: 0.010181 time: 0.369083ms                    pre: 1.00 rec: 1.00 f1: 1.00 acc: 1.00 items: 398\n",
      "train Epoch 167 loss: 0.053394 time: 0.146398ms                    pre: 0.98 rec: 0.99 f1: 0.98 acc: 0.99 items: 1192\n",
      "val   Epoch 167 loss: 0.010411 time: 0.382200ms                    pre: 1.00 rec: 1.00 f1: 1.00 acc: 1.00 items: 398\n",
      "train Epoch 168 loss: 0.045370 time: 0.139264ms                    pre: 0.97 rec: 0.97 f1: 0.97 acc: 0.98 items: 1192\n",
      "val   Epoch 168 loss: 0.010550 time: 0.384306ms                    pre: 1.00 rec: 1.00 f1: 1.00 acc: 1.00 items: 398\n",
      "train Epoch 169 loss: 0.048588 time: 0.140733ms                    pre: 0.98 rec: 0.98 f1: 0.98 acc: 0.98 items: 1192\n",
      "val   Epoch 169 loss: 0.010565 time: 0.388440ms                    pre: 1.00 rec: 1.00 f1: 1.00 acc: 1.00 items: 398\n",
      "train Epoch 170 loss: 0.040791 time: 0.138113ms                    pre: 0.99 rec: 0.99 f1: 0.99 acc: 0.99 items: 1192\n",
      "val   Epoch 170 loss: 0.010297 time: 0.365642ms                    pre: 1.00 rec: 1.00 f1: 1.00 acc: 1.00 items: 398\n",
      "train Epoch 171 loss: 0.046946 time: 0.139228ms                    pre: 0.98 rec: 0.98 f1: 0.98 acc: 0.99 items: 1192\n",
      "val   Epoch 171 loss: 0.009971 time: 0.392488ms                    pre: 1.00 rec: 1.00 f1: 1.00 acc: 1.00 items: 398\n",
      "train Epoch 172 loss: 0.042913 time: 0.152595ms                    pre: 0.99 rec: 0.98 f1: 0.98 acc: 0.99 items: 1192\n",
      "val   Epoch 172 loss: 0.010683 time: 0.385600ms                    pre: 1.00 rec: 1.00 f1: 1.00 acc: 1.00 items: 398\n",
      "train Epoch 173 loss: 0.051372 time: 0.136874ms                    pre: 0.98 rec: 0.98 f1: 0.98 acc: 0.99 items: 1192\n",
      "val   Epoch 173 loss: 0.010947 time: 0.373819ms                    pre: 1.00 rec: 1.00 f1: 1.00 acc: 1.00 items: 398\n",
      "train Epoch 174 loss: 0.045955 time: 0.139720ms                    pre: 0.98 rec: 0.99 f1: 0.99 acc: 0.99 items: 1192\n",
      "val   Epoch 174 loss: 0.010159 time: 0.381018ms                    pre: 1.00 rec: 1.00 f1: 1.00 acc: 1.00 items: 398\n",
      "train Epoch 175 loss: 0.045147 time: 0.144614ms                    pre: 0.99 rec: 0.98 f1: 0.99 acc: 0.99 items: 1192\n",
      "val   Epoch 175 loss: 0.009706 time: 0.418770ms                    pre: 1.00 rec: 1.00 f1: 1.00 acc: 1.00 items: 398\n",
      "train Epoch 176 loss: 0.043865 time: 0.139580ms                    pre: 0.99 rec: 0.99 f1: 0.99 acc: 0.99 items: 1192\n",
      "val   Epoch 176 loss: 0.010309 time: 0.374018ms                    pre: 1.00 rec: 1.00 f1: 1.00 acc: 1.00 items: 398\n",
      "train Epoch 177 loss: 0.032815 time: 0.143095ms                    pre: 0.99 rec: 0.99 f1: 0.99 acc: 0.99 items: 1192\n"
     ]
    },
    {
     "name": "stdout",
     "output_type": "stream",
     "text": [
      "val   Epoch 177 loss: 0.010033 time: 0.377951ms                    pre: 1.00 rec: 1.00 f1: 1.00 acc: 1.00 items: 398\n",
      "train Epoch 178 loss: 0.043588 time: 0.139741ms                    pre: 0.99 rec: 0.98 f1: 0.98 acc: 0.99 items: 1192\n",
      "val   Epoch 178 loss: 0.009815 time: 0.366613ms                    pre: 1.00 rec: 1.00 f1: 1.00 acc: 1.00 items: 398\n",
      "train Epoch 179 loss: 0.043811 time: 0.139283ms                    pre: 0.99 rec: 0.99 f1: 0.99 acc: 0.99 items: 1192\n",
      "val   Epoch 179 loss: 0.010386 time: 0.375805ms                    pre: 1.00 rec: 1.00 f1: 1.00 acc: 1.00 items: 398\n",
      "train Epoch 180 loss: 0.033814 time: 0.141334ms                    pre: 0.99 rec: 0.99 f1: 0.99 acc: 0.99 items: 1192\n",
      "val   Epoch 180 loss: 0.010069 time: 0.374133ms                    pre: 1.00 rec: 1.00 f1: 1.00 acc: 1.00 items: 398\n",
      "train Epoch 181 loss: 0.038625 time: 0.139715ms                    pre: 0.99 rec: 0.97 f1: 0.98 acc: 0.99 items: 1192\n",
      "val   Epoch 181 loss: 0.010009 time: 0.372738ms                    pre: 1.00 rec: 1.00 f1: 1.00 acc: 1.00 items: 398\n",
      "train Epoch 182 loss: 0.045566 time: 0.136952ms                    pre: 0.99 rec: 0.99 f1: 0.99 acc: 0.99 items: 1192\n",
      "val   Epoch 182 loss: 0.010090 time: 0.380865ms                    pre: 1.00 rec: 1.00 f1: 1.00 acc: 1.00 items: 398\n",
      "train Epoch 183 loss: 0.043037 time: 0.136442ms                    pre: 0.99 rec: 0.99 f1: 0.99 acc: 0.99 items: 1192\n",
      "val   Epoch 183 loss: 0.010534 time: 0.372648ms                    pre: 1.00 rec: 1.00 f1: 1.00 acc: 1.00 items: 398\n",
      "train Epoch 184 loss: 0.042079 time: 0.139563ms                    pre: 0.99 rec: 0.99 f1: 0.99 acc: 0.99 items: 1192\n",
      "val   Epoch 184 loss: 0.009742 time: 0.398797ms                    pre: 1.00 rec: 1.00 f1: 1.00 acc: 1.00 items: 398\n",
      "train Epoch 185 loss: 0.045296 time: 0.177598ms                    pre: 0.97 rec: 0.99 f1: 0.98 acc: 0.98 items: 1192\n",
      "val   Epoch 185 loss: 0.010315 time: 0.457468ms                    pre: 1.00 rec: 1.00 f1: 1.00 acc: 1.00 items: 398\n",
      "train Epoch 186 loss: 0.048325 time: 0.201594ms                    pre: 0.98 rec: 0.98 f1: 0.98 acc: 0.98 items: 1192\n",
      "val   Epoch 186 loss: 0.009909 time: 0.556562ms                    pre: 1.00 rec: 1.00 f1: 1.00 acc: 1.00 items: 398\n",
      "train Epoch 187 loss: 0.047179 time: 0.192376ms                    pre: 0.98 rec: 0.98 f1: 0.98 acc: 0.98 items: 1192\n",
      "val   Epoch 187 loss: 0.010004 time: 0.471683ms                    pre: 1.00 rec: 1.00 f1: 1.00 acc: 1.00 items: 398\n",
      "train Epoch 188 loss: 0.046450 time: 0.146953ms                    pre: 0.99 rec: 0.98 f1: 0.98 acc: 0.99 items: 1192\n",
      "val   Epoch 188 loss: 0.010607 time: 0.383347ms                    pre: 1.00 rec: 1.00 f1: 1.00 acc: 1.00 items: 398\n",
      "train Epoch 189 loss: 0.056614 time: 0.141057ms                    pre: 0.98 rec: 0.98 f1: 0.98 acc: 0.98 items: 1192\n",
      "val   Epoch 189 loss: 0.009881 time: 0.390741ms                    pre: 1.00 rec: 1.00 f1: 1.00 acc: 1.00 items: 398\n",
      "train Epoch 190 loss: 0.039494 time: 0.162856ms                    pre: 0.99 rec: 0.99 f1: 0.99 acc: 0.99 items: 1192\n",
      "val   Epoch 190 loss: 0.009925 time: 0.400501ms                    pre: 1.00 rec: 1.00 f1: 1.00 acc: 1.00 items: 398\n",
      "train Epoch 191 loss: 0.041244 time: 0.183720ms                    pre: 0.99 rec: 0.98 f1: 0.99 acc: 0.99 items: 1192\n",
      "val   Epoch 191 loss: 0.009655 time: 0.439962ms                    pre: 1.00 rec: 1.00 f1: 1.00 acc: 1.00 items: 398\n",
      "train Epoch 192 loss: 0.031961 time: 0.149162ms                    pre: 0.99 rec: 0.99 f1: 0.99 acc: 0.99 items: 1192\n",
      "val   Epoch 192 loss: 0.009652 time: 0.385233ms                    pre: 1.00 rec: 1.00 f1: 1.00 acc: 1.00 items: 398\n",
      "train Epoch 193 loss: 0.034980 time: 0.139782ms                    pre: 0.99 rec: 0.99 f1: 0.99 acc: 0.99 items: 1192\n",
      "val   Epoch 193 loss: 0.009445 time: 0.376809ms                    pre: 1.00 rec: 1.00 f1: 1.00 acc: 1.00 items: 398\n",
      "train Epoch 194 loss: 0.038666 time: 0.139276ms                    pre: 0.99 rec: 0.99 f1: 0.99 acc: 0.99 items: 1192\n",
      "val   Epoch 194 loss: 0.009775 time: 0.388081ms                    pre: 1.00 rec: 1.00 f1: 1.00 acc: 1.00 items: 398\n",
      "train Epoch 195 loss: 0.038470 time: 0.197224ms                    pre: 0.99 rec: 0.98 f1: 0.98 acc: 0.99 items: 1192\n",
      "val   Epoch 195 loss: 0.009656 time: 0.512024ms                    pre: 1.00 rec: 1.00 f1: 1.00 acc: 1.00 items: 398\n",
      "train Epoch 196 loss: 0.029306 time: 0.186479ms                    pre: 1.00 rec: 0.99 f1: 0.99 acc: 0.99 items: 1192\n",
      "val   Epoch 196 loss: 0.009580 time: 0.499598ms                    pre: 1.00 rec: 1.00 f1: 1.00 acc: 1.00 items: 398\n",
      "train Epoch 197 loss: 0.031381 time: 0.176679ms                    pre: 0.99 rec: 0.99 f1: 0.99 acc: 0.99 items: 1192\n",
      "val   Epoch 197 loss: 0.009685 time: 0.435097ms                    pre: 1.00 rec: 1.00 f1: 1.00 acc: 1.00 items: 398\n",
      "train Epoch 198 loss: 0.039331 time: 0.169549ms                    pre: 0.99 rec: 0.99 f1: 0.99 acc: 0.99 items: 1192\n",
      "val   Epoch 198 loss: 0.009538 time: 0.444988ms                    pre: 1.00 rec: 1.00 f1: 1.00 acc: 1.00 items: 398\n",
      "train Epoch 199 loss: 0.033122 time: 0.146379ms                    pre: 0.98 rec: 0.99 f1: 0.98 acc: 0.99 items: 1192\n",
      "val   Epoch 199 loss: 0.009559 time: 0.429665ms                    pre: 1.00 rec: 1.00 f1: 1.00 acc: 1.00 items: 398\n",
      "train Epoch 200 loss: 0.035010 time: 0.209641ms                    pre: 0.98 rec: 0.99 f1: 0.99 acc: 0.99 items: 1192\n",
      "val   Epoch 200 loss: 0.009470 time: 0.556240ms                    pre: 1.00 rec: 1.00 f1: 1.00 acc: 1.00 items: 398\n"
     ]
    }
   ],
   "source": [
    "###\n",
    "### Parameters & Model\n",
    "###\n",
    "\n",
    "num_classes = encoding.num_combined_classes()\n",
    "vocab_size = len(bounce_vocab)\n",
    "embedding_dim = 16\n",
    "input_len = 40\n",
    "\n",
    "evaluator = evaluation.EpochEvaluator()\n",
    "model = models.EmbeddingModel(vocab_size, embedding_dim, num_classes, input_len=input_len)\n",
    "print(model)\n",
    "\n",
    "\n",
    "###\n",
    "### Hyperparameters\n",
    "###\n",
    "learning_rate = 0.01\n",
    "epochs = 200\n",
    "batch_size = 8\n",
    "\n",
    "optimizer = torch.optim.SGD(model.parameters(), lr = learning_rate)\n",
    "criterion = torch.nn.CrossEntropyLoss()\n",
    "\n",
    "###\n",
    "### Data\n",
    "###\n",
    "train_ds = BounceTextDataset(x_train, y_train, bounce_vocab, text_len=padded_len)\n",
    "val_ds = BounceTextDataset(x_val, y_val, bounce_vocab, text_len=padded_len)\n",
    "test_ds = BounceTextDataset(x_test, y_test, bounce_vocab, text_len=padded_len)\n",
    "\n",
    "train_loader = DataLoader(train_ds, shuffle=True, batch_size=batch_size)\n",
    "val_loader = DataLoader(val_ds, batch_size=1)\n",
    "test_loader = DataLoader(test_ds, batch_size=1)\n",
    "\n",
    "dataloaders = {'train': train_loader, 'val': val_loader}\n",
    "\n",
    "model = fit(model, dataloaders, epochs, optimizer, criterion, evaluator)"
   ]
  },
  {
   "cell_type": "markdown",
   "metadata": {},
   "source": [
    "# Evaluation"
   ]
  },
  {
   "cell_type": "markdown",
   "metadata": {},
   "source": [
    "## Train data, just for curiosity"
   ]
  },
  {
   "cell_type": "code",
   "execution_count": 10,
   "metadata": {},
   "outputs": [
    {
     "data": {
      "application/vnd.jupyter.widget-view+json": {
       "model_id": "e9713c606c404a4693ceab8fe91f7125",
       "version_major": 2,
       "version_minor": 0
      },
      "text/plain": [
       "0it [00:00, ?it/s]"
      ]
     },
     "metadata": {},
     "output_type": "display_data"
    },
    {
     "name": "stdout",
     "output_type": "stream",
     "text": [
      "                      precision    recall  f1-score   support\n",
      "\n",
      "        User unknown       1.00      1.00      1.00       309\n",
      "TemporaryUserProblem       1.00      1.00      1.00        24\n",
      "        Mailbox full       1.00      1.00      1.00        77\n",
      "                Spam       1.00      1.00      1.00       225\n",
      "              Policy       1.00      1.00      1.00        73\n",
      "    TransportProblem       1.00      1.00      1.00       242\n",
      "        Unclassified       1.00      0.99      1.00       175\n",
      "          Greylisted       0.99      1.00      0.99        67\n",
      "\n",
      "            accuracy                           1.00      1192\n",
      "           macro avg       1.00      1.00      1.00      1192\n",
      "        weighted avg       1.00      1.00      1.00      1192\n",
      "\n"
     ]
    }
   ],
   "source": [
    "labels, predicted = evaluation.eval_model(model, train_loader, bounce_vocab, encoding.decode_combined_label)\n",
    "print(sklearn.metrics.classification_report(labels, predicted, target_names=encoding.combined_target_names()))"
   ]
  },
  {
   "cell_type": "markdown",
   "metadata": {},
   "source": [
    "## Test"
   ]
  },
  {
   "cell_type": "code",
   "execution_count": 11,
   "metadata": {},
   "outputs": [
    {
     "data": {
      "application/vnd.jupyter.widget-view+json": {
       "model_id": "0b3b86d238cd4f01996db4364c5fbe0c",
       "version_major": 2,
       "version_minor": 0
      },
      "text/plain": [
       "0it [00:00, ?it/s]"
      ]
     },
     "metadata": {},
     "output_type": "display_data"
    },
    {
     "name": "stdout",
     "output_type": "stream",
     "text": [
      "Wrong prediction\n",
      "text: inbound email bounce rule <unk> has matched this bounce <emp> <emp> <emp> <emp> <emp> <emp> <emp> <emp> <emp> <emp> <emp> <emp> <emp> <emp> <emp> <emp> <emp> <emp> <emp> <emp> <emp> <emp> <emp> <emp> <emp> <emp> <emp> <emp> <emp> <emp> <emp>\n",
      "real class: Unclassified\n",
      "predicted class: User unknown\n",
      "                      precision    recall  f1-score   support\n",
      "\n",
      "        User unknown       0.99      1.00      1.00       104\n",
      "TemporaryUserProblem       1.00      1.00      1.00         8\n",
      "        Mailbox full       1.00      1.00      1.00        26\n",
      "                Spam       1.00      1.00      1.00        75\n",
      "              Policy       1.00      1.00      1.00        24\n",
      "    TransportProblem       1.00      1.00      1.00        81\n",
      "        Unclassified       1.00      0.98      0.99        58\n",
      "          Greylisted       1.00      1.00      1.00        22\n",
      "\n",
      "            accuracy                           1.00       398\n",
      "           macro avg       1.00      1.00      1.00       398\n",
      "        weighted avg       1.00      1.00      1.00       398\n",
      "\n"
     ]
    }
   ],
   "source": [
    "labels, predicted = evaluation.eval_model(model, test_loader, bounce_vocab, encoding.decode_combined_label)\n",
    "print(sklearn.metrics.classification_report(labels, predicted, target_names=encoding.combined_target_names()))"
   ]
  },
  {
   "cell_type": "markdown",
   "metadata": {},
   "source": [
    "# Playground"
   ]
  },
  {
   "cell_type": "code",
   "execution_count": 30,
   "metadata": {},
   "outputs": [],
   "source": [
    "import torch.nn as nn\n",
    "from torch import tensor"
   ]
  },
  {
   "cell_type": "code",
   "execution_count": 31,
   "metadata": {},
   "outputs": [],
   "source": [
    "embedding = nn.Embedding(5, 3)"
   ]
  },
  {
   "cell_type": "code",
   "execution_count": 32,
   "metadata": {},
   "outputs": [
    {
     "data": {
      "text/plain": [
       "tensor([[-0.4112,  0.2312,  0.3912],\n",
       "        [ 0.0129, -0.3718,  0.9632]], grad_fn=<EmbeddingBackward0>)"
      ]
     },
     "execution_count": 32,
     "metadata": {},
     "output_type": "execute_result"
    }
   ],
   "source": [
    "embedding(tensor([0, 4]))"
   ]
  },
  {
   "cell_type": "code",
   "execution_count": 28,
   "metadata": {},
   "outputs": [
    {
     "data": {
      "text/plain": [
       "[Parameter containing:\n",
       " tensor([[ 0.0126,  1.5022, -0.9710],\n",
       "         [ 1.3640,  0.2301, -1.5133],\n",
       "         [ 1.5845, -0.9093,  0.0115],\n",
       "         [-0.7000, -0.4967, -0.4074],\n",
       "         [-1.2437,  0.8110,  1.3576]], requires_grad=True)]"
      ]
     },
     "execution_count": 28,
     "metadata": {},
     "output_type": "execute_result"
    }
   ],
   "source": [
    "[w for w in embedding.parameters()]"
   ]
  },
  {
   "cell_type": "code",
   "execution_count": null,
   "metadata": {},
   "outputs": [],
   "source": []
  }
 ],
 "metadata": {
  "kernelspec": {
   "display_name": "Python 3 (ipykernel)",
   "language": "python",
   "name": "python3"
  },
  "language_info": {
   "codemirror_mode": {
    "name": "ipython",
    "version": 3
   },
   "file_extension": ".py",
   "mimetype": "text/x-python",
   "name": "python",
   "nbconvert_exporter": "python",
   "pygments_lexer": "ipython3",
   "version": "3.11.3"
  },
  "vscode": {
   "interpreter": {
    "hash": "1e54ad7961efd25b291f03ecad7dec930f61e31c9e5b5b2d4077d2fd781a6510"
   }
  }
 },
 "nbformat": 4,
 "nbformat_minor": 2
}
